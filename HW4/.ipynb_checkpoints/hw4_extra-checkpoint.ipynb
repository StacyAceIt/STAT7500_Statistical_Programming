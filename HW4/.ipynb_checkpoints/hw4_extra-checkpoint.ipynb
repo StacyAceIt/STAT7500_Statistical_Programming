{
 "cells": [
  {
   "cell_type": "code",
   "execution_count": null,
   "metadata": {},
   "outputs": [],
   "source": [
    "options center ps=60 ls=72;\n",
    "dm'log;clear;out;clear;';\n",
    "libname in '/folders/myfolders/STAT7500_Statistical_Programming/HW3/in';\n",
    "libname out '/folders/myfolders/STAT7500_Statistical_Programming/HW4/out';\n",
    "\n",
    "proc copy inlib=in outlib=out noclone datecopy;\n",
    "run;\n",
    "\n",
    "/* load dataset vs */\n",
    "data vs;\n",
    "\tset out.vs;\n",
    "run;"
   ]
  }
 ],
 "metadata": {
  "kernelspec": {
   "display_name": "SAS",
   "language": "sas",
   "name": "sas"
  },
  "language_info": {
   "codemirror_mode": "sas",
   "file_extension": ".sas",
   "mimetype": "text/x-sas",
   "name": "sas"
  }
 },
 "nbformat": 4,
 "nbformat_minor": 2
}
